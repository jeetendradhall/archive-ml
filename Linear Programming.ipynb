{
 "cells": [
  {
   "cell_type": "code",
   "execution_count": 8,
   "metadata": {},
   "outputs": [
    {
     "name": "stdout",
     "output_type": "stream",
     "text": [
      "Optimal\n",
      "# of A cars 2.0\n",
      "# of B cars 6.0\n"
     ]
    }
   ],
   "source": [
    "#car\n",
    "import pulp\n",
    "#model\n",
    "model = pulp.LpProblem ('Profit maximizing problem', \\\n",
    "                        pulp.LpMaximize)\n",
    "#variables\n",
    "A = pulp.LpVariable ('A', lowBound=0, cat='Integer')\n",
    "B = pulp.LpVariable ('B', lowBound=0, cat='Integer')\n",
    "#objective function\n",
    "model += 30000*A + 45000*B, \"Profit\"\n",
    "#constraints\n",
    "model += 3*A + 4*B <= 30\n",
    "model += 5*A + 6*B <= 60\n",
    "model += 1.5*A + 3*B <= 21\n",
    "#solve\n",
    "model.solve ()\n",
    "print (pulp.LpStatus [model.status])\n",
    "#output - decision variables\n",
    "print ('# of A cars', A.varValue)\n",
    "print ('# of B cars', B.varValue)"
   ]
  },
  {
   "cell_type": "code",
   "execution_count": 11,
   "metadata": {},
   "outputs": [
    {
     "name": "stdout",
     "output_type": "stream",
     "text": [
      "Optimal\n",
      "X1 1.5\n",
      "X2 1.0\n"
     ]
    }
   ],
   "source": [
    "#general\n",
    "#https://www.utdallas.edu/~scniu/OPRE-6201/documents/LP03-Graphical-Method.pdf\n",
    "import pulp\n",
    "#model\n",
    "model = pulp.LpProblem ('General maximizing problem', \\\n",
    "                        pulp.LpMaximize)\n",
    "#variables\n",
    "X1 = pulp.LpVariable ('X1', lowBound=0, cat='Continuous')\n",
    "X2 = pulp.LpVariable ('X2', lowBound=0, cat='Continuous')\n",
    "#objective function\n",
    "model += 4*X1 + 3*X2, \"Max\"\n",
    "#constraints\n",
    "model += 2*X1 + 3*X2 <= 6\n",
    "model += (-3)*X1 + 2*X2 <= 3\n",
    "model += 2*X2 <= 5\n",
    "model += 2*X1 + 1*X2 <= 4\n",
    "#solve\n",
    "model.solve ()\n",
    "print (pulp.LpStatus [model.status])\n",
    "#output - decision variables\n",
    "print ('X1', X1.varValue)\n",
    "print ('X2', X2.varValue)"
   ]
  },
  {
   "cell_type": "code",
   "execution_count": null,
   "metadata": {
    "collapsed": true
   },
   "outputs": [],
   "source": []
  }
 ],
 "metadata": {
  "kernelspec": {
   "display_name": "Python 3",
   "language": "python",
   "name": "python3"
  },
  "language_info": {
   "codemirror_mode": {
    "name": "ipython",
    "version": 3
   },
   "file_extension": ".py",
   "mimetype": "text/x-python",
   "name": "python",
   "nbconvert_exporter": "python",
   "pygments_lexer": "ipython3",
   "version": "3.6.3"
  }
 },
 "nbformat": 4,
 "nbformat_minor": 2
}
