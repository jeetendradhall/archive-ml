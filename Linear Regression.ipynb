{
 "cells": [
  {
   "cell_type": "markdown",
   "metadata": {},
   "source": [
    "    For the Boston Housing dataset, we observe that\n",
    "    the median value of the home (medv) is:\n",
    "        directly proportional to the number of rooms (rm)\n",
    "        inversely proportional to the percentage of lower status population (lstat)\n",
    "\n",
    "    We will do the following to predict 'medv':\n",
    "        simple linear regression of 'rm'\n",
    "        multiple linear regression of 'rm', and 'lstat'\n",
    "        polynomial linear regression"
   ]
  },
  {
   "cell_type": "markdown",
   "metadata": {},
   "source": [
    "### Imports"
   ]
  },
  {
   "cell_type": "code",
   "execution_count": 1,
   "metadata": {},
   "outputs": [],
   "source": [
    "#imports\n",
    "import numpy as np\n",
    "import pandas as pd\n",
    "import matplotlib\n",
    "from mpl_toolkits import mplot3d\n",
    "import matplotlib.pyplot as plt\n",
    "import seaborn as sns"
   ]
  },
  {
   "cell_type": "markdown",
   "metadata": {},
   "source": [
    "### Read data"
   ]
  },
  {
   "cell_type": "code",
   "execution_count": 2,
   "metadata": {
    "scrolled": true
   },
   "outputs": [
    {
     "data": {
      "text/html": [
       "<div>\n",
       "<style scoped>\n",
       "    .dataframe tbody tr th:only-of-type {\n",
       "        vertical-align: middle;\n",
       "    }\n",
       "\n",
       "    .dataframe tbody tr th {\n",
       "        vertical-align: top;\n",
       "    }\n",
       "\n",
       "    .dataframe thead th {\n",
       "        text-align: right;\n",
       "    }\n",
       "</style>\n",
       "<table border=\"1\" class=\"dataframe\">\n",
       "  <thead>\n",
       "    <tr style=\"text-align: right;\">\n",
       "      <th></th>\n",
       "      <th>ID</th>\n",
       "      <th>crim</th>\n",
       "      <th>zn</th>\n",
       "      <th>indus</th>\n",
       "      <th>chas</th>\n",
       "      <th>nox</th>\n",
       "      <th>rm</th>\n",
       "      <th>age</th>\n",
       "      <th>dis</th>\n",
       "      <th>rad</th>\n",
       "      <th>tax</th>\n",
       "      <th>ptratio</th>\n",
       "      <th>black</th>\n",
       "      <th>lstat</th>\n",
       "      <th>medv</th>\n",
       "    </tr>\n",
       "  </thead>\n",
       "  <tbody>\n",
       "    <tr>\n",
       "      <th>0</th>\n",
       "      <td>1</td>\n",
       "      <td>0.00632</td>\n",
       "      <td>18.0</td>\n",
       "      <td>2.31</td>\n",
       "      <td>0</td>\n",
       "      <td>0.538</td>\n",
       "      <td>6.575</td>\n",
       "      <td>65.2</td>\n",
       "      <td>4.0900</td>\n",
       "      <td>1</td>\n",
       "      <td>296</td>\n",
       "      <td>15.3</td>\n",
       "      <td>396.9</td>\n",
       "      <td>4.98</td>\n",
       "      <td>24.0</td>\n",
       "    </tr>\n",
       "    <tr>\n",
       "      <th>1</th>\n",
       "      <td>2</td>\n",
       "      <td>0.02731</td>\n",
       "      <td>0.0</td>\n",
       "      <td>7.07</td>\n",
       "      <td>0</td>\n",
       "      <td>0.469</td>\n",
       "      <td>6.421</td>\n",
       "      <td>78.9</td>\n",
       "      <td>4.9671</td>\n",
       "      <td>2</td>\n",
       "      <td>242</td>\n",
       "      <td>17.8</td>\n",
       "      <td>396.9</td>\n",
       "      <td>9.14</td>\n",
       "      <td>21.6</td>\n",
       "    </tr>\n",
       "  </tbody>\n",
       "</table>\n",
       "</div>"
      ],
      "text/plain": [
       "   ID     crim    zn  indus  chas    nox     rm   age     dis  rad  tax  \\\n",
       "0   1  0.00632  18.0   2.31     0  0.538  6.575  65.2  4.0900    1  296   \n",
       "1   2  0.02731   0.0   7.07     0  0.469  6.421  78.9  4.9671    2  242   \n",
       "\n",
       "   ptratio  black  lstat  medv  \n",
       "0     15.3  396.9   4.98  24.0  \n",
       "1     17.8  396.9   9.14  21.6  "
      ]
     },
     "execution_count": 2,
     "metadata": {},
     "output_type": "execute_result"
    }
   ],
   "source": [
    "#read data\n",
    "df_data = pd.read_csv ('./datasets/boston-housing.csv')\n",
    "#train and test data separation\n",
    "msk = np.random.rand(len(df_data)) < 0.9\n",
    "df = df_data[msk]\n",
    "df_test = df_data[~msk]\n",
    "df.head (2)"
   ]
  },
  {
   "cell_type": "markdown",
   "metadata": {},
   "source": [
    "### Exploratory data analysis"
   ]
  },
  {
   "cell_type": "code",
   "execution_count": null,
   "metadata": {},
   "outputs": [],
   "source": [
    "#exploratory data analysis\n",
    "sns.set (rc = {'figure.figsize': (12,9)}) #rc = run command\n",
    "corr_matrix = df.corr().round (2)\n",
    "sns.heatmap (data = corr_matrix, annot = True)\n",
    "plt.show ()"
   ]
  },
  {
   "cell_type": "markdown",
   "metadata": {},
   "source": [
    "    'medv' is positively correlated with 'rm'\n",
    "    'medv' is negatively correlated with 'lstat'"
   ]
  },
  {
   "cell_type": "markdown",
   "metadata": {},
   "source": [
    "#### 'medv' is positively correlated with 'rm'"
   ]
  },
  {
   "cell_type": "code",
   "execution_count": null,
   "metadata": {},
   "outputs": [],
   "source": [
    "sns.regplot (x = 'rm', y = 'medv', data = df)\n",
    "plt.show ()"
   ]
  },
  {
   "cell_type": "markdown",
   "metadata": {},
   "source": [
    "#### 'medv' is negatively correlated with 'lstat'"
   ]
  },
  {
   "cell_type": "code",
   "execution_count": null,
   "metadata": {
    "scrolled": true
   },
   "outputs": [],
   "source": [
    "sns.regplot (x = 'lstat', y = 'medv', data = df)\n",
    "plt.show ()"
   ]
  },
  {
   "cell_type": "markdown",
   "metadata": {},
   "source": [
    "### Simple Linear Regression - Analytical Solution"
   ]
  },
  {
   "cell_type": "markdown",
   "metadata": {},
   "source": [
    "<img src=\"LR_analyticalSol.png\">"
   ]
  },
  {
   "cell_type": "markdown",
   "metadata": {},
   "source": [
    "#### prepare X and y"
   ]
  },
  {
   "cell_type": "code",
   "execution_count": 48,
   "metadata": {},
   "outputs": [],
   "source": [
    "X = np.ones ((df.shape[0], 2))\n",
    "X [:, 1] = df ['rm']\n",
    "#X.shape #(333, 2)\n",
    "y = df ['medv'].to_numpy ().reshape (df.shape[0], 1)\n",
    "#y.shape #(333, 1)"
   ]
  },
  {
   "cell_type": "markdown",
   "metadata": {},
   "source": [
    "#### calculate theta"
   ]
  },
  {
   "cell_type": "code",
   "execution_count": 49,
   "metadata": {},
   "outputs": [],
   "source": [
    "Xt = np.transpose (X)\n",
    "# theta = INVERSE(X_transpose DOT X) DOT X_transpose DOT y\n",
    "theta = np.dot (np.dot (np.linalg.inv (np.dot (Xt, X)), Xt), y)"
   ]
  },
  {
   "cell_type": "code",
   "execution_count": 50,
   "metadata": {},
   "outputs": [
    {
     "data": {
      "text/plain": [
       "array([[-33.38860593],\n",
       "       [  8.96965747]])"
      ]
     },
     "execution_count": 50,
     "metadata": {},
     "output_type": "execute_result"
    }
   ],
   "source": [
    "theta"
   ]
  },
  {
   "cell_type": "markdown",
   "metadata": {},
   "source": [
    "    output:\n",
    "        array([[-33.53672509],\n",
    "       [  8.98642214]])"
   ]
  },
  {
   "cell_type": "markdown",
   "metadata": {},
   "source": [
    "#### plot the predicted line"
   ]
  },
  {
   "cell_type": "code",
   "execution_count": 51,
   "metadata": {},
   "outputs": [
    {
     "name": "stderr",
     "output_type": "stream",
     "text": [
      "/mydrive/anaconda3/lib/python3.7/site-packages/scipy/stats/stats.py:1713: FutureWarning: Using a non-tuple sequence for multidimensional indexing is deprecated; use `arr[tuple(seq)]` instead of `arr[seq]`. In the future this will be interpreted as an array index, `arr[np.array(seq)]`, which will result either in an error or a different result.\n",
      "  return np.add.reduce(sorted[indexer] * weights, axis=axis) / sumval\n"
     ]
    },
    {
     "data": {
      "image/png": "[encoded data removed]",
      "text/plain": [
       "<Figure size 432x288 with 1 Axes>"
      ]
     },
     "metadata": {
      "needs_background": "light"
     },
     "output_type": "display_data"
    }
   ],
   "source": [
    "#predict y for all x\n",
    "y_pred = theta[0] + theta[1] * X[:, 1]\n",
    "\n",
    "#plot\n",
    "df_line = pd.DataFrame ({'x': X[:, 1], 'y': y_pred})\n",
    "sns.scatterplot (x = 'rm', y = 'medv', data = df)\n",
    "sns.lineplot (x = 'x', y = 'y', data = df_line)\n",
    "plt.show ()"
   ]
  },
  {
   "cell_type": "markdown",
   "metadata": {},
   "source": [
    "### Multiple Linear Regression - Analytical Solution"
   ]
  },
  {
   "cell_type": "markdown",
   "metadata": {},
   "source": [
    "<img src=\"LR_analyticalSol.png\">"
   ]
  },
  {
   "cell_type": "markdown",
   "metadata": {},
   "source": [
    "#### plot 'medv' for 'rm' and 'lstat'"
   ]
  },
  {
   "cell_type": "code",
   "execution_count": null,
   "metadata": {},
   "outputs": [],
   "source": [
    "fig = plt.figure(figsize=(8, 6))\n",
    "ax = fig.add_subplot(111, projection = '3d')\n",
    "ax.view_init(azim=30)\n",
    "\n",
    "xs = df ['rm']\n",
    "ys = df ['lstat']\n",
    "zs = df ['medv']\n",
    "ax.scatter(xs, ys, zs, s=50, alpha=0.6, edgecolors='w')\n",
    "\n",
    "ax.set_xlabel('Rooms')\n",
    "ax.set_ylabel('Lower Status Population')\n",
    "ax.set_zlabel('Value of Home')\n",
    "\n",
    "plt.show()"
   ]
  },
  {
   "cell_type": "markdown",
   "metadata": {},
   "source": [
    "#### prepare X and y"
   ]
  },
  {
   "cell_type": "code",
   "execution_count": null,
   "metadata": {},
   "outputs": [],
   "source": [
    "X = np.ones ((df.shape[0], 3))\n",
    "X [:, 1:] = df [['rm', 'lstat']]\n",
    "#X.shape #(333, 3)\n",
    "y = df ['medv'].to_numpy ().reshape (df.shape[0], 1)\n",
    "#y.shape #(333, 1)"
   ]
  },
  {
   "cell_type": "markdown",
   "metadata": {},
   "source": [
    "#### calculate theta"
   ]
  },
  {
   "cell_type": "code",
   "execution_count": null,
   "metadata": {},
   "outputs": [],
   "source": [
    "Xt = np.transpose (X)\n",
    "# theta = INVERSE(X_transpose DOT X) DOT X_transpose DOT y\n",
    "theta = np.dot (np.dot (np.linalg.inv (np.dot (Xt, X)), Xt), y)"
   ]
  },
  {
   "cell_type": "code",
   "execution_count": null,
   "metadata": {},
   "outputs": [],
   "source": [
    "theta"
   ]
  },
  {
   "cell_type": "markdown",
   "metadata": {},
   "source": [
    "    output:\n",
    "        array([[ 0.1039438 ],\n",
    "           [ 4.92846523],\n",
    "           [-0.65639414]])"
   ]
  },
  {
   "cell_type": "markdown",
   "metadata": {},
   "source": [
    "#### plot the predicted plane"
   ]
  },
  {
   "cell_type": "code",
   "execution_count": null,
   "metadata": {},
   "outputs": [],
   "source": [
    "#predict y for all x\n",
    "y_pred = theta[0] + theta[1] * X[:, 1] + theta[2] * X[:, 2]\n",
    "\n",
    "#plot\n",
    "df_plane = pd.DataFrame ({'x1': X[:, 1], 'x2': X[:, 2], 'y': y_pred})\n",
    "\n",
    "fig = plt.figure(figsize=(8, 6))\n",
    "ax = fig.add_subplot(111, projection = '3d')\n",
    "ax.view_init(azim=30) #for angle '0' we can see a straight line. try 120 for more intuition\n",
    "\n",
    "xs = df_plane ['x1']\n",
    "ys = df_plane ['x2']\n",
    "zs = df_plane ['y']\n",
    "ax.scatter(xs, ys, zs, s=50, alpha=0.6, edgecolors='w')\n",
    "\n",
    "ax.set_xlabel('Rooms')\n",
    "ax.set_ylabel('Lower Status Population')\n",
    "ax.set_zlabel('Predicted Value of Home')\n",
    "\n",
    "plt.show()"
   ]
  },
  {
   "cell_type": "markdown",
   "metadata": {},
   "source": [
    "### Simple Linear Regression - Numerical Solution (Gradient Descent)"
   ]
  },
  {
   "cell_type": "markdown",
   "metadata": {},
   "source": [
    "#### prepare X and y"
   ]
  },
  {
   "cell_type": "code",
   "execution_count": null,
   "metadata": {},
   "outputs": [],
   "source": [
    "X = np.ones ((df.shape[0], 2))\n",
    "X [:, 1] = df ['rm']\n",
    "#X.shape #(333, 2)\n",
    "y_actual = df ['medv'].to_numpy ().reshape (df.shape[0], 1)\n",
    "#y.shape #(333, 1)"
   ]
  },
  {
   "cell_type": "markdown",
   "metadata": {},
   "source": [
    "#### calculate gradient"
   ]
  },
  {
   "cell_type": "code",
   "execution_count": null,
   "metadata": {},
   "outputs": [],
   "source": [
    "N = df.shape[0] #number of observations\n",
    "theta = np.zeros (2).reshape (2, 1) #initialize theta\n",
    "learning_rate = 0.001\n",
    "y_predict = np.dot (X, theta) #predict y = X.theta\n",
    "y_diff = y_actual - y_predict #difference in prediction\n",
    "cost = np.sum (np.square (y_diff))/N #cost\n",
    "\n",
    "for i in range (1000000):\n",
    "    X_ = X[:, 1].reshape (N, 1)\n",
    "    d_theta_0 = (-2/N) * np.sum( y_diff) #derivative of theta_0\n",
    "    d_theta_1 = (-2/N) * np.sum( np.multiply (y_diff, X_)) #derivative of theta_1\n",
    "    theta[0] = theta[0] - (learning_rate * d_theta_0)\n",
    "    theta[1] = theta[1] - (learning_rate * d_theta_1)\n",
    "    y_predict = np.dot (X, theta) #predict y = X.theta\n",
    "    y_diff = y_actual - y_predict #difference in prediction\n",
    "    previous_cost = cost\n",
    "    cost = np.sum (np.square (y_diff))/N #cost\n",
    "    if (i % 10000 == 0):\n",
    "        print (theta, cost)\n",
    "    if (previous_cost - cost < 0.0000001):\n",
    "        print (theta, cost)\n",
    "        break"
   ]
  },
  {
   "cell_type": "markdown",
   "metadata": {},
   "source": [
    "    Gradient Solution Output:\n",
    "        [[0.04553754]\n",
    "     [0.2942005 ]] 517.299686479311\n",
    "    [[-30.52058125]\n",
    "     [  8.51087986]] 44.11469319275882\n",
    "    [[-33.12946905]\n",
    "     [  8.92221185]] 44.00368979125995\n",
    "     \n",
    "    Analytical Solution Output:\n",
    "        array([[-33.53672509],\n",
    "       [  8.98642214]])"
   ]
  },
  {
   "cell_type": "markdown",
   "metadata": {},
   "source": [
    "#### test the results"
   ]
  },
  {
   "cell_type": "code",
   "execution_count": null,
   "metadata": {},
   "outputs": [],
   "source": [
    "N = df_test.shape[0] #number of observations\n",
    "X = np.ones ((df_test.shape[0], 2))\n",
    "X [:, 1] = df_test ['rm']\n",
    "#X.shape #(333, 2)\n",
    "y_actual = df_test ['medv'].to_numpy ().reshape (df_test.shape[0], 1)\n",
    "#y.shape #(333, 1)\n",
    "y_predict = np.dot (X, theta) #predict y = X.theta\n",
    "for i in range (N):\n",
    "    if (abs (y_actual[i] - y_predict[i]) < 3):\n",
    "        print (y_actual[i], y_predict[i], 'yay!')\n",
    "    else:\n",
    "        print (y_actual[i], y_predict[i])"
   ]
  },
  {
   "cell_type": "markdown",
   "metadata": {},
   "source": [
    "### Multiple Linear Regression - Numerical Solution (Gradient Descent)"
   ]
  },
  {
   "cell_type": "markdown",
   "metadata": {},
   "source": [
    "#### prepare X and y"
   ]
  },
  {
   "cell_type": "code",
   "execution_count": null,
   "metadata": {},
   "outputs": [],
   "source": [
    "X = np.ones ((df.shape[0], 3))\n",
    "X [:, 1:] = df [['rm', 'lstat']]\n",
    "#X.shape #(333, 3)\n",
    "y_actual = df ['medv'].to_numpy ().reshape (df.shape[0], 1)\n",
    "#y.shape #(333, 1)"
   ]
  },
  {
   "cell_type": "markdown",
   "metadata": {},
   "source": [
    "#### calculate gradient"
   ]
  },
  {
   "cell_type": "code",
   "execution_count": null,
   "metadata": {},
   "outputs": [],
   "source": [
    "N = df.shape[0] #number of observations\n",
    "theta = np.zeros (3).reshape (3, 1) #initialize theta\n",
    "learning_rate = 0.001\n",
    "y_predict = np.dot (X, theta) #predict y = X.theta\n",
    "y_diff = y_actual - y_predict #difference in prediction\n",
    "cost = np.sum (np.square (y_diff))/N #cost\n",
    "\n",
    "for i in range (1000000):\n",
    "    X_1 = X[:, 1].reshape (N, 1)\n",
    "    X_2 = X[:, 2].reshape (N, 1)\n",
    "    d_theta_0 = (-2/N) * np.sum( y_diff) #derivative of theta_0\n",
    "    d_theta_1 = (-2/N) * np.sum( np.multiply (y_diff, X_1)) #derivative of theta_1\n",
    "    d_theta_2 = (-2/N) * np.sum( np.multiply (y_diff, X_2)) #derivative of theta_2\n",
    "    theta[0] = theta[0] - (learning_rate * d_theta_0)\n",
    "    theta[1] = theta[1] - (learning_rate * d_theta_1)\n",
    "    theta[2] = theta[2] - (learning_rate * d_theta_2)\n",
    "    y_predict = np.dot (X, theta) #predict y = X.theta\n",
    "    y_diff = y_actual - y_predict #difference in prediction\n",
    "    previous_cost = cost\n",
    "    cost = np.sum (np.square (y_diff))/N #cost\n",
    "    if (i % 100000 == 0):\n",
    "        print (theta, cost)\n",
    "    if (previous_cost - cost < 0.0000000000001):\n",
    "        print (theta, cost)\n",
    "        break"
   ]
  },
  {
   "cell_type": "markdown",
   "metadata": {},
   "source": [
    "    Gradient Solution Output:\n",
    "        [[ 0.10478233]\n",
    "         [ 4.92834894]\n",
    "         [-0.65640253]] 30.679308946768124\n",
    "        [[ 0.10478232]\n",
    "         [ 4.92834894]\n",
    "         [-0.65640253]] 30.679308946768025\n",
    "        [[ 0.10478231]\n",
    "         [ 4.92834894]\n",
    "         [-0.65640253]] 30.67930894676793\n",
    "        [[ 0.1047823 ]\n",
    "         [ 4.92834894]\n",
    "         [-0.65640253]] 30.679308946767822\n",
    "         \n",
    "    Analytical Solution Output:\n",
    "    array([[ 0.1039438 ],\n",
    "       [ 4.92846523],\n",
    "       [-0.65639414]])"
   ]
  },
  {
   "cell_type": "markdown",
   "metadata": {},
   "source": [
    "#### test the results"
   ]
  },
  {
   "cell_type": "code",
   "execution_count": null,
   "metadata": {},
   "outputs": [],
   "source": [
    "N = df_test.shape[0] #number of observations\n",
    "X = np.ones ((df_test.shape[0], 3))\n",
    "X [:, 1:] = df_test [['rm', 'lstat']]\n",
    "#X.shape #(333, 3)\n",
    "y_actual = df_test ['medv'].to_numpy ().reshape (df_test.shape[0], 1)\n",
    "#y.shape #(333, 1)\n",
    "y_predict = np.dot (X, theta) #predict y = X.theta\n",
    "for i in range (N):\n",
    "    if (abs (y_actual[i] - y_predict[i]) < 3):\n",
    "        print (y_actual[i], y_predict[i], 'yay!')\n",
    "    else:\n",
    "        print (y_actual[i], y_predict[i])"
   ]
  },
  {
   "cell_type": "markdown",
   "metadata": {},
   "source": [
    "### Polynomial Linear Regression - Numerical Solution (Gradient Descent)"
   ]
  },
  {
   "cell_type": "markdown",
   "metadata": {},
   "source": [
    "#### prepare X and y"
   ]
  },
  {
   "cell_type": "code",
   "execution_count": null,
   "metadata": {},
   "outputs": [],
   "source": [
    "X = np.ones ((df.shape[0], 5))\n",
    "X [:, 1:3] = df [['rm', 'lstat']]\n",
    "#X.shape #(333, 3)\n",
    "y_actual = df ['medv'].to_numpy ().reshape (df.shape[0], 1)\n",
    "#y.shape #(333, 1)\n",
    "X [:, 3] = np.multiply (X [:, 1], X [:, 1]) #X1^2\n",
    "X [:, 4] = np.multiply (X [:, 2], X [:, 2]) #X2^2\n",
    "# Columns of X: (1, X1, X2, X1^2, X2^2)"
   ]
  },
  {
   "cell_type": "markdown",
   "metadata": {},
   "source": [
    "#### calculate gradient - cost goes to infinity. theta rises indefinitely\n",
    "            *** regularization required ***"
   ]
  },
  {
   "cell_type": "code",
   "execution_count": null,
   "metadata": {},
   "outputs": [],
   "source": [
    "N = df.shape[0] #number of observations\n",
    "theta = np.zeros (5).reshape (5, 1) #initialize theta\n",
    "learning_rate = 0.001\n",
    "y_predict = np.dot (X, theta) #predict y = X.theta\n",
    "y_diff = y_actual - y_predict #difference in prediction\n",
    "cost = np.sum (np.square (y_diff))/N #cost\n",
    "\n",
    "for i in range (100):\n",
    "    X_1 = X[:, 1].reshape (N, 1)\n",
    "    X_2 = X[:, 2].reshape (N, 1)\n",
    "    X_1SQ = X[:, 3].reshape (N, 1)\n",
    "    X_2SQ = X[:, 4].reshape (N, 1)\n",
    "    d_theta_0 = (-2/N) * np.sum( y_diff) #derivative of theta_0\n",
    "    d_theta_1 = (-2/N) * np.sum( np.multiply (y_diff, X_1)) #derivative of theta_1\n",
    "    d_theta_2 = (-2/N) * np.sum( np.multiply (y_diff, X_2)) #derivative of theta_2\n",
    "    d_theta_3 = (-2/N) * np.sum( np.multiply (y_diff, X_1SQ)) #derivative of theta_3\n",
    "    d_theta_4 = (-2/N) * np.sum( np.multiply (y_diff, X_2SQ)) #derivative of theta_4\n",
    "    theta[0] = theta[0] - (learning_rate * d_theta_0)\n",
    "    theta[1] = theta[1] - (learning_rate * d_theta_1)\n",
    "    theta[2] = theta[2] - (learning_rate * d_theta_2)\n",
    "    theta[3] = theta[3] - (learning_rate * d_theta_3)\n",
    "    theta[4] = theta[4] - (learning_rate * d_theta_4)\n",
    "    y_predict = np.dot (X, theta) #predict y = X.theta\n",
    "    y_diff = y_actual - y_predict #difference in prediction\n",
    "    previous_cost = cost\n",
    "    cost = np.sum (np.square (y_diff))/N #cost\n",
    "    if (i % 10 == 0):\n",
    "        print (theta, cost)\n",
    "    if (previous_cost - cost < 0.0000000000001):\n",
    "        print (theta, cost)\n",
    "        #break"
   ]
  },
  {
   "cell_type": "markdown",
   "metadata": {},
   "source": [
    "#### calculate gradient - with regularization"
   ]
  },
  {
   "cell_type": "code",
   "execution_count": null,
   "metadata": {},
   "outputs": [],
   "source": [
    "N = df.shape[0] #number of observations\n",
    "theta = np.zeros (5).reshape (5, 1) #initialize theta\n",
    "learning_rate = 0.000001 #IMPORTANT. higher learning rate jumps across the optimum\n",
    "regularization_rate = 0.01\n",
    "y_predict = np.dot (X, theta) #predict y = X.theta\n",
    "y_diff = y_actual - y_predict #difference in prediction\n",
    "cost = (np.sum (np.square (y_diff))/N \\\n",
    "       ) + regularization_rate * (np.sum (np.square (theta))/5) #cost\n",
    "\n",
    "for i in range (100000000):\n",
    "    X_1 = X[:, 1].reshape (N, 1)\n",
    "    X_2 = X[:, 2].reshape (N, 1)\n",
    "    X_1SQ = X[:, 3].reshape (N, 1)\n",
    "    X_2SQ = X[:, 4].reshape (N, 1)\n",
    "    d_theta_0 = (-2/N) * np.sum( y_diff) #derivative of theta_0\n",
    "    d_theta_1 = (-2/N) * np.sum( np.multiply (y_diff, X_1)) + regularization_rate * (theta[1]) #derivative of theta_1\n",
    "    d_theta_2 = (-2/N) * np.sum( np.multiply (y_diff, X_2)) + regularization_rate * (theta[2]) #derivative of theta_2\n",
    "    d_theta_3 = (-2/N) * np.sum( np.multiply (y_diff, X_1SQ)) + regularization_rate * (theta[3]) #derivative of theta_3\n",
    "    d_theta_4 = (-2/N) * np.sum( np.multiply (y_diff, X_2SQ)) + regularization_rate * (theta[4]) #derivative of theta_4\n",
    "    theta[0] = theta[0] - (learning_rate * d_theta_0)\n",
    "    theta[1] = theta[1] - (learning_rate * d_theta_1)\n",
    "    theta[2] = theta[2] - (learning_rate * d_theta_2)\n",
    "    theta[3] = theta[3] - (learning_rate * d_theta_3)\n",
    "    theta[4] = theta[4] - (learning_rate * d_theta_4)\n",
    "    y_predict = np.dot (X, theta) #predict y = X.theta\n",
    "    y_diff = y_actual - y_predict #difference in prediction\n",
    "    previous_cost = cost\n",
    "    cost = (np.sum (np.square (y_diff))/N \\\n",
    "       ) + regularization_rate * (np.sum (np.square (theta))/5) #cost\n",
    "    if (i % 100000 == 0):\n",
    "        print (theta, cost)\n",
    "    if (previous_cost - cost < 0.000001):\n",
    "        print (theta, cost)\n",
    "        #break"
   ]
  },
  {
   "cell_type": "markdown",
   "metadata": {},
   "source": [
    "    Gradient Solution Output:\n",
    "        [[ 0.84203696]\n",
    "         [ 1.94427898]\n",
    "         [-1.01054065]\n",
    "         [ 0.46215521]\n",
    "         [ 0.0177273 ]] 26.5120574995123\n",
    "         \n",
    "         more iterations...\n",
    "         \n",
    "         with regularization_rate = 0.1\n",
    "         [[ 2.14763657]\n",
    "         [ 3.51213761]\n",
    "         [-1.32455211]\n",
    "         [ 0.24723676]\n",
    "         [ 0.02467038]] 25.05696016191588\n",
    "\n",
    "         with regularization_rate = 0.01\n",
    "         [[ 2.09450704]\n",
    "         [ 4.3411159 ]\n",
    "         [-1.46105151]\n",
    "         [ 0.1456098 ]\n",
    "         [ 0.02778164]] 24.41253762179367"
   ]
  },
  {
   "cell_type": "markdown",
   "metadata": {},
   "source": [
    "#### test the results"
   ]
  },
  {
   "cell_type": "code",
   "execution_count": null,
   "metadata": {},
   "outputs": [],
   "source": [
    "N = df_test.shape[0] #number of observations\n",
    "\n",
    "X = np.ones ((df_test.shape[0], 5))\n",
    "X [:, 1:3] = df_test [['rm', 'lstat']]\n",
    "#X.shape #(333, 3)\n",
    "y_actual = df_test ['medv'].to_numpy ().reshape (df_test.shape[0], 1)\n",
    "#y.shape #(333, 1)\n",
    "X [:, 3] = np.multiply (X [:, 1], X [:, 1]) #X1^2\n",
    "X [:, 4] = np.multiply (X [:, 2], X [:, 2]) #X2^2\n",
    "# Columns of X: (1, X1, X2, X1^2, X2^2)\n",
    "\n",
    "y_predict = np.dot (X, theta) #predict y = X.theta\n",
    "for i in range (N):\n",
    "    if (abs (y_actual[i] - y_predict[i]) < 3):\n",
    "        print (y_actual[i], y_predict[i], 'yay!')\n",
    "    else:\n",
    "        print (y_actual[i], y_predict[i])"
   ]
  },
  {
   "cell_type": "markdown",
   "metadata": {},
   "source": [
    "### Polynomial Linear Regression - Analytical Solution"
   ]
  },
  {
   "cell_type": "markdown",
   "metadata": {},
   "source": [
    "<img src=\"PolyLR_analyticalSol.png\">"
   ]
  },
  {
   "cell_type": "markdown",
   "metadata": {},
   "source": [
    "#### prepare X and y"
   ]
  },
  {
   "cell_type": "code",
   "execution_count": null,
   "metadata": {},
   "outputs": [],
   "source": [
    "X = np.ones ((df.shape[0], 5))\n",
    "X [:, 1:3] = df [['rm', 'lstat']]\n",
    "#X.shape #(333, 3)\n",
    "y_actual = df ['medv'].to_numpy ().reshape (df.shape[0], 1)\n",
    "#y.shape #(333, 1)\n",
    "X [:, 3] = np.multiply (X [:, 1], X [:, 1]) #X1^2\n",
    "X [:, 4] = np.multiply (X [:, 2], X [:, 2]) #X2^2\n",
    "# Columns of X: (1, X1, X2, X1^2, X2^2)"
   ]
  },
  {
   "cell_type": "markdown",
   "metadata": {},
   "source": [
    "#### calculate theta (the letter 'a' in the picture above)"
   ]
  },
  {
   "cell_type": "code",
   "execution_count": null,
   "metadata": {},
   "outputs": [],
   "source": [
    "regularization_rate = 0.01\n",
    "I = np.identity (5)\n",
    "Xt = np.transpose (X)\n",
    "# theta = INVERSE(X_transpose DOT X + regularization * I) DOT X_transpose DOT y\n",
    "theta = np.dot (np.dot (np.linalg.inv (np.dot (Xt, X) + regularization_rate*I), Xt), y_actual)"
   ]
  },
  {
   "cell_type": "markdown",
   "metadata": {},
   "source": [
    "#### test the results"
   ]
  },
  {
   "cell_type": "code",
   "execution_count": null,
   "metadata": {},
   "outputs": [],
   "source": [
    "N = df_test.shape[0] #number of observations\n",
    "\n",
    "X = np.ones ((df_test.shape[0], 5))\n",
    "X [:, 1:3] = df_test [['rm', 'lstat']]\n",
    "#X.shape #(333, 3)\n",
    "y_actual = df_test ['medv'].to_numpy ().reshape (N, 1)\n",
    "#y.shape #(333, 1)\n",
    "X [:, 3] = np.multiply (X [:, 1], X [:, 1]) #X1^2\n",
    "X [:, 4] = np.multiply (X [:, 2], X [:, 2]) #X2^2\n",
    "# Columns of X: (1, X1, X2, X1^2, X2^2)\n",
    "\n",
    "y_predict = np.dot (X, theta) #predict y = X.theta\n",
    "for i in range (N):\n",
    "    if (abs (y_actual[i] - y_predict[i]) < 3):\n",
    "        print (y_actual[i], y_predict[i], 'yay!')\n",
    "    else:\n",
    "        print (y_actual[i], y_predict[i])"
   ]
  },
  {
   "cell_type": "markdown",
   "metadata": {},
   "source": [
    "### Towards Bayesian Treatment"
   ]
  },
  {
   "cell_type": "code",
   "execution_count": 3,
   "metadata": {},
   "outputs": [],
   "source": [
    "import math\n",
    "def get_uniform (x, mu, std):\n",
    "    return (1/(std*math.sqrt(2*math.pi)))*math.exp(-1*(x - mu)*(x - mu)/(2*std*std))"
   ]
  },
  {
   "cell_type": "code",
   "execution_count": 4,
   "metadata": {},
   "outputs": [
    {
     "data": {
      "text/plain": [
       "0.3989422804014327"
      ]
     },
     "execution_count": 4,
     "metadata": {},
     "output_type": "execute_result"
    }
   ],
   "source": [
    "get_uniform (0, 0, 1)"
   ]
  },
  {
   "cell_type": "markdown",
   "metadata": {},
   "source": [
    "#### prepare X and y (Polynomial Linear Regression  - Analytical Solution)"
   ]
  },
  {
   "cell_type": "code",
   "execution_count": 5,
   "metadata": {},
   "outputs": [],
   "source": [
    "X = np.ones ((df.shape[0], 5))\n",
    "X [:, 1:3] = df [['rm', 'lstat']]\n",
    "#X.shape #(333, 3)\n",
    "y_actual = df ['medv'].to_numpy ().reshape (df.shape[0], 1)\n",
    "#y.shape #(333, 1)\n",
    "X [:, 3] = np.multiply (X [:, 1], X [:, 1]) #X1^2\n",
    "X [:, 4] = np.multiply (X [:, 2], X [:, 2]) #X2^2\n",
    "# Columns of X: (1, X1, X2, X1^2, X2^2)"
   ]
  },
  {
   "cell_type": "markdown",
   "metadata": {},
   "source": [
    "#### calculate wML (weights that maximize the likelihood of observed training data)"
   ]
  },
  {
   "cell_type": "code",
   "execution_count": 6,
   "metadata": {},
   "outputs": [],
   "source": [
    "regularization_rate = 0.01\n",
    "I = np.identity (5)\n",
    "Xt = np.transpose (X)\n",
    "# theta = INVERSE(X_transpose DOT X + regularization * I) DOT X_transpose DOT y\n",
    "wML = np.dot (np.dot (np.linalg.inv (np.dot (Xt, X) + regularization_rate*I), Xt), y_actual)"
   ]
  },
  {
   "cell_type": "code",
   "execution_count": 7,
   "metadata": {},
   "outputs": [
    {
     "data": {
      "text/plain": [
       "array([[ 1.07023514e+02],\n",
       "       [-2.69739604e+01],\n",
       "       [-1.37682567e+00],\n",
       "       [ 2.45976742e+00],\n",
       "       [ 2.04488372e-02]])"
      ]
     },
     "execution_count": 7,
     "metadata": {},
     "output_type": "execute_result"
    }
   ],
   "source": [
    "wML"
   ]
  },
  {
   "cell_type": "markdown",
   "metadata": {},
   "source": [
    "#### calculate betaML (inverse variance of the distribution)"
   ]
  },
  {
   "cell_type": "code",
   "execution_count": 8,
   "metadata": {},
   "outputs": [],
   "source": [
    "N = df.shape[0] #number of observations\n",
    "y_predict = np.dot (X, wML) #predict y = X.wML\n",
    "y_diff = y_actual - y_predict #difference in prediction\n",
    "cost = np.sum (np.square (y_diff))/N\n",
    "betaML = 1 / cost"
   ]
  },
  {
   "cell_type": "code",
   "execution_count": 9,
   "metadata": {},
   "outputs": [
    {
     "data": {
      "text/plain": [
       "0.049416489223432995"
      ]
     },
     "execution_count": 9,
     "metadata": {},
     "output_type": "execute_result"
    }
   ],
   "source": [
    "betaML"
   ]
  },
  {
   "cell_type": "code",
   "execution_count": null,
   "metadata": {},
   "outputs": [],
   "source": [
    "N = df_test.shape[0] #number of observations\n",
    "\n",
    "X = np.ones ((df_test.shape[0], 5))\n",
    "X [:, 1:3] = df_test [['rm', 'lstat']]\n",
    "#X.shape #(333, 3)\n",
    "y_actual = df_test ['medv'].to_numpy ().reshape (N, 1)\n",
    "#y.shape #(333, 1)\n",
    "X [:, 3] = np.multiply (X [:, 1], X [:, 1]) #X1^2\n",
    "X [:, 4] = np.multiply (X [:, 2], X [:, 2]) #X2^2\n",
    "# Columns of X: (1, X1, X2, X1^2, X2^2)\n",
    "\n",
    "y_predict = np.dot (X, wML) #predict y = X.theta"
   ]
  },
  {
   "cell_type": "code",
   "execution_count": 17,
   "metadata": {},
   "outputs": [
    {
     "name": "stdout",
     "output_type": "stream",
     "text": [
      "[16.89631093]\n",
      "[23.18228576]\n",
      "[25.26584966]\n",
      "[17.57948401]\n",
      "[27.80278114]\n"
     ]
    }
   ],
   "source": [
    "for i in range (0, 5):\n",
    "    print (y_predict[i])"
   ]
  },
  {
   "cell_type": "code",
   "execution_count": 18,
   "metadata": {},
   "outputs": [
    {
     "data": {
      "image/png": "[encoded data removed]",
      "text/plain": [
       "<Figure size 432x288 with 1 Axes>"
      ]
     },
     "metadata": {
      "needs_background": "light"
     },
     "output_type": "display_data"
    }
   ],
   "source": [
    "import scipy.stats as stats\n",
    "\n",
    "variance = 1/betaML\n",
    "sigma = math.sqrt(variance)\n",
    "\n",
    "for i in range (0, 5):\n",
    "    mu = y_predict[i]\n",
    "    x = np.linspace(mu - 3*sigma, mu + 3*sigma, 100)\n",
    "    plt.plot(x, stats.norm.pdf(x, mu, sigma))\n",
    "\n",
    "plt.show()"
   ]
  },
  {
   "cell_type": "markdown",
   "metadata": {},
   "source": [
    "#### test the results"
   ]
  },
  {
   "cell_type": "code",
   "execution_count": 10,
   "metadata": {},
   "outputs": [
    {
     "name": "stdout",
     "output_type": "stream",
     "text": [
      "[21.7] [16.89631093]\n",
      "[19.9] [23.18228576]\n",
      "[24.7] [25.26584966] yay!\n",
      "[18.9] [17.57948401] yay!\n",
      "[24.7] [27.80278114]\n",
      "[33.] [29.77881863]\n",
      "[23.6] [31.83279132]\n",
      "[18.5] [22.38129453]\n",
      "[19.3] [18.27442018] yay!\n",
      "[18.8] [15.57490826]\n",
      "[19.4] [16.55789996] yay!\n",
      "[23.3] [26.61023367]\n",
      "[27.] [27.56696288] yay!\n",
      "[25.] [22.47459585] yay!\n",
      "[22.6] [22.04938651] yay!\n",
      "[37.9] [33.78899835]\n",
      "[30.5] [30.94665277] yay!\n",
      "[29.1] [30.52666603] yay!\n",
      "[24.4] [18.11473206]\n",
      "[26.2] [28.67351146] yay!\n",
      "[30.7] [22.94916712]\n",
      "[22.3] [25.49382261]\n",
      "[26.4] [25.19302975] yay!\n",
      "[33.1] [32.39248263] yay!\n",
      "[36.1] [32.07326275]\n",
      "[28.4] [25.56703104] yay!\n",
      "[23.1] [22.99269079] yay!\n",
      "[19.] [22.22343393]\n",
      "[16.5] [25.44249265]\n",
      "[17.8] [16.48319967] yay!\n",
      "[16.1] [17.0248433] yay!\n",
      "[17.8] [24.72944459]\n",
      "[14.1] [17.50417809]\n",
      "[13.5] [16.12333154] yay!\n",
      "[21.4] [19.74253841] yay!\n",
      "[18.3] [17.96404399] yay!\n"
     ]
    }
   ],
   "source": [
    "N = df_test.shape[0] #number of observations\n",
    "\n",
    "X = np.ones ((df_test.shape[0], 5))\n",
    "X [:, 1:3] = df_test [['rm', 'lstat']]\n",
    "#X.shape #(333, 3)\n",
    "y_actual = df_test ['medv'].to_numpy ().reshape (N, 1)\n",
    "#y.shape #(333, 1)\n",
    "X [:, 3] = np.multiply (X [:, 1], X [:, 1]) #X1^2\n",
    "X [:, 4] = np.multiply (X [:, 2], X [:, 2]) #X2^2\n",
    "# Columns of X: (1, X1, X2, X1^2, X2^2)\n",
    "\n",
    "y_predict = np.dot (X, wML) #predict y = X.theta\n",
    "\n",
    "for i in range (N):\n",
    "    if (abs (y_actual[i] - y_predict[i]) < 3):\n",
    "        print (y_actual[i], y_predict[i], 'yay!')\n",
    "    else:\n",
    "        print (y_actual[i], y_predict[i])"
   ]
  },
  {
   "cell_type": "code",
   "execution_count": 11,
   "metadata": {
    "scrolled": true
   },
   "outputs": [
    {
     "data": {
      "text/html": [
       "<div>\n",
       "<style scoped>\n",
       "    .dataframe tbody tr th:only-of-type {\n",
       "        vertical-align: middle;\n",
       "    }\n",
       "\n",
       "    .dataframe tbody tr th {\n",
       "        vertical-align: top;\n",
       "    }\n",
       "\n",
       "    .dataframe thead th {\n",
       "        text-align: right;\n",
       "    }\n",
       "</style>\n",
       "<table border=\"1\" class=\"dataframe\">\n",
       "  <thead>\n",
       "    <tr style=\"text-align: right;\">\n",
       "      <th></th>\n",
       "      <th>ID</th>\n",
       "      <th>crim</th>\n",
       "      <th>zn</th>\n",
       "      <th>indus</th>\n",
       "      <th>chas</th>\n",
       "      <th>nox</th>\n",
       "      <th>rm</th>\n",
       "      <th>age</th>\n",
       "      <th>dis</th>\n",
       "      <th>rad</th>\n",
       "      <th>tax</th>\n",
       "      <th>ptratio</th>\n",
       "      <th>black</th>\n",
       "      <th>lstat</th>\n",
       "      <th>medv</th>\n",
       "    </tr>\n",
       "  </thead>\n",
       "  <tbody>\n",
       "    <tr>\n",
       "      <th>7</th>\n",
       "      <td>13</td>\n",
       "      <td>0.09378</td>\n",
       "      <td>12.5</td>\n",
       "      <td>7.87</td>\n",
       "      <td>0</td>\n",
       "      <td>0.524</td>\n",
       "      <td>5.889</td>\n",
       "      <td>39.0</td>\n",
       "      <td>5.4509</td>\n",
       "      <td>5</td>\n",
       "      <td>311</td>\n",
       "      <td>15.2</td>\n",
       "      <td>390.50</td>\n",
       "      <td>15.71</td>\n",
       "      <td>21.7</td>\n",
       "    </tr>\n",
       "    <tr>\n",
       "      <th>10</th>\n",
       "      <td>16</td>\n",
       "      <td>0.62739</td>\n",
       "      <td>0.0</td>\n",
       "      <td>8.14</td>\n",
       "      <td>0</td>\n",
       "      <td>0.538</td>\n",
       "      <td>5.834</td>\n",
       "      <td>56.5</td>\n",
       "      <td>4.4986</td>\n",
       "      <td>4</td>\n",
       "      <td>307</td>\n",
       "      <td>21.0</td>\n",
       "      <td>395.62</td>\n",
       "      <td>8.47</td>\n",
       "      <td>19.9</td>\n",
       "    </tr>\n",
       "    <tr>\n",
       "      <th>25</th>\n",
       "      <td>44</td>\n",
       "      <td>0.15936</td>\n",
       "      <td>0.0</td>\n",
       "      <td>6.91</td>\n",
       "      <td>0</td>\n",
       "      <td>0.448</td>\n",
       "      <td>6.211</td>\n",
       "      <td>6.5</td>\n",
       "      <td>5.7209</td>\n",
       "      <td>3</td>\n",
       "      <td>233</td>\n",
       "      <td>17.9</td>\n",
       "      <td>394.46</td>\n",
       "      <td>7.44</td>\n",
       "      <td>24.7</td>\n",
       "    </tr>\n",
       "    <tr>\n",
       "      <th>34</th>\n",
       "      <td>55</td>\n",
       "      <td>0.01360</td>\n",
       "      <td>75.0</td>\n",
       "      <td>4.00</td>\n",
       "      <td>0</td>\n",
       "      <td>0.410</td>\n",
       "      <td>5.888</td>\n",
       "      <td>47.6</td>\n",
       "      <td>7.3197</td>\n",
       "      <td>3</td>\n",
       "      <td>469</td>\n",
       "      <td>21.1</td>\n",
       "      <td>396.90</td>\n",
       "      <td>14.80</td>\n",
       "      <td>18.9</td>\n",
       "    </tr>\n",
       "    <tr>\n",
       "      <th>36</th>\n",
       "      <td>57</td>\n",
       "      <td>0.02055</td>\n",
       "      <td>85.0</td>\n",
       "      <td>0.74</td>\n",
       "      <td>0</td>\n",
       "      <td>0.410</td>\n",
       "      <td>6.383</td>\n",
       "      <td>35.7</td>\n",
       "      <td>9.1876</td>\n",
       "      <td>2</td>\n",
       "      <td>313</td>\n",
       "      <td>17.3</td>\n",
       "      <td>396.90</td>\n",
       "      <td>5.77</td>\n",
       "      <td>24.7</td>\n",
       "    </tr>\n",
       "  </tbody>\n",
       "</table>\n",
       "</div>"
      ],
      "text/plain": [
       "    ID     crim    zn  indus  chas    nox     rm   age     dis  rad  tax  \\\n",
       "7   13  0.09378  12.5   7.87     0  0.524  5.889  39.0  5.4509    5  311   \n",
       "10  16  0.62739   0.0   8.14     0  0.538  5.834  56.5  4.4986    4  307   \n",
       "25  44  0.15936   0.0   6.91     0  0.448  6.211   6.5  5.7209    3  233   \n",
       "34  55  0.01360  75.0   4.00     0  0.410  5.888  47.6  7.3197    3  469   \n",
       "36  57  0.02055  85.0   0.74     0  0.410  6.383  35.7  9.1876    2  313   \n",
       "\n",
       "    ptratio   black  lstat  medv  \n",
       "7      15.2  390.50  15.71  21.7  \n",
       "10     21.0  395.62   8.47  19.9  \n",
       "25     17.9  394.46   7.44  24.7  \n",
       "34     21.1  396.90  14.80  18.9  \n",
       "36     17.3  396.90   5.77  24.7  "
      ]
     },
     "execution_count": 11,
     "metadata": {},
     "output_type": "execute_result"
    }
   ],
   "source": [
    "df_test.head(5)"
   ]
  },
  {
   "cell_type": "code",
   "execution_count": 39,
   "metadata": {},
   "outputs": [],
   "source": [
    "N = df_test.shape[0] #number of observations\n",
    "\n",
    "X = np.ones ((df_test.shape[0], 5))\n",
    "X [:, 1:3] = df_test [['rm', 'lstat']]\n",
    "#X.shape #(333, 3)\n",
    "y_actual = df_test ['medv'].to_numpy ().reshape (N, 1)\n",
    "#y.shape #(333, 1)\n",
    "X [:, 3] = np.multiply (X [:, 1], X [:, 1]) #X1^2\n",
    "X [:, 4] = np.multiply (X [:, 2], X [:, 2]) #X2^2\n",
    "# Columns of X: (1, X1, X2, X1^2, X2^2)\n",
    "\n",
    "y_predict = np.dot (X, wML) #predict y = X.theta"
   ]
  },
  {
   "cell_type": "code",
   "execution_count": 12,
   "metadata": {},
   "outputs": [
    {
     "data": {
      "text/plain": [
       "20.236160352844454"
      ]
     },
     "execution_count": 12,
     "metadata": {},
     "output_type": "execute_result"
    }
   ],
   "source": [
    "1/betaML"
   ]
  },
  {
   "cell_type": "code",
   "execution_count": 44,
   "metadata": {},
   "outputs": [
    {
     "data": {
      "text/plain": [
       "0.018670624537714803"
      ]
     },
     "execution_count": 44,
     "metadata": {},
     "output_type": "execute_result"
    }
   ],
   "source": [
    "get_uniform (24, 29.61, (1/betaML))"
   ]
  },
  {
   "cell_type": "code",
   "execution_count": 41,
   "metadata": {},
   "outputs": [
    {
     "data": {
      "text/plain": [
       "array([[29.617263  ],\n",
       "       [24.27656286],\n",
       "       [30.5178506 ],\n",
       "       [36.27655418],\n",
       "       [26.85346834],\n",
       "       [21.09976488],\n",
       "       [25.20167105],\n",
       "       [19.32005635],\n",
       "       [17.74082917],\n",
       "       [16.03546638],\n",
       "       [17.11186964],\n",
       "       [26.89303208],\n",
       "       [27.04769288],\n",
       "       [21.29475656],\n",
       "       [23.95209985],\n",
       "       [28.44421377],\n",
       "       [32.45005225],\n",
       "       [32.35900409],\n",
       "       [32.01328151],\n",
       "       [28.77123106],\n",
       "       [23.22276679],\n",
       "       [22.10769248],\n",
       "       [16.3762319 ],\n",
       "       [20.34646418],\n",
       "       [18.21934932],\n",
       "       [10.75501176],\n",
       "       [14.680403  ],\n",
       "       [19.25857551],\n",
       "       [15.99425813],\n",
       "       [19.41713387],\n",
       "       [17.18328242],\n",
       "       [19.46028581]])"
      ]
     },
     "execution_count": 41,
     "metadata": {},
     "output_type": "execute_result"
    }
   ],
   "source": [
    "y_predict"
   ]
  },
  {
   "cell_type": "code",
   "execution_count": null,
   "metadata": {},
   "outputs": [],
   "source": []
  }
 ],
 "metadata": {
  "kernelspec": {
   "display_name": "Python 3",
   "language": "python",
   "name": "python3"
  },
  "language_info": {
   "codemirror_mode": {
    "name": "ipython",
    "version": 3
   },
   "file_extension": ".py",
   "mimetype": "text/x-python",
   "name": "python",
   "nbconvert_exporter": "python",
   "pygments_lexer": "ipython3",
   "version": "3.7.1"
  }
 },
 "nbformat": 4,
 "nbformat_minor": 2
}
